{
 "cells": [
  {
   "cell_type": "markdown",
   "id": "d487d256-35e3-4f62-9d65-d872cb0b367a",
   "metadata": {},
   "source": [
    "### Exercise\n",
    "1. Can you create a list of squared number from $1^2$ to $10^2$?\n",
    "2. Create a dictionary with key as `grocer` and value as `prices` as shown below:\n",
    "```\n",
    "grocer = ['bread', 'milk', 'egg', 'vegetables', 'fish']\n",
    "prices = [4., 5.2, 4.2, 8.5, 20.6]\n",
    "```"
   ]
  },
  {
   "cell_type": "code",
   "execution_count": 2,
   "id": "47edf966-1370-44ff-990a-defdef3cdebb",
   "metadata": {},
   "outputs": [
    {
     "name": "stdout",
     "output_type": "stream",
     "text": [
      "[1, 4, 9, 16, 25, 36, 49, 64, 81, 100]\n"
     ]
    }
   ],
   "source": [
    "# Question 1\n",
    "list = []\n",
    "for i in range(1, 11):\n",
    "    list.append(i*i)\n",
    "\n",
    "print(list)"
   ]
  },
  {
   "cell_type": "code",
   "execution_count": 6,
   "id": "9c874b63-ab97-4ad8-8977-3eb1194e73f0",
   "metadata": {},
   "outputs": [
    {
     "name": "stdout",
     "output_type": "stream",
     "text": [
      "grocer = ['bread', 'milk', 'egg', 'vegetables', 'fish']\n",
      "prices = [4, 5.2, 4.2, 8.5, 20.6]\n"
     ]
    }
   ],
   "source": [
    "# Question 2\n",
    "grocer = ['bread', 'milk', 'egg', 'vegetables', 'fish']\n",
    "prices = [4, 5.2, 4.2, 8.5, 20.6]\n",
    "\n",
    "print('grocer =', grocer)\n",
    "print('prices =', prices)"
   ]
  },
  {
   "cell_type": "markdown",
   "id": "86ca0690-1516-493b-959a-c02f7493273f",
   "metadata": {},
   "source": [
    "## Exercise\n",
    "1. Replace all the negative values in the list with zero.\n",
    "```\n",
    "ratings = [5, 2, 1, -1, 5, 3, 4, -1, 4]\n",
    "```"
   ]
  },
  {
   "cell_type": "code",
   "execution_count": 14,
   "id": "fc6b7a24-6ccc-440a-a8d5-6a6984d4bae8",
   "metadata": {},
   "outputs": [
    {
     "name": "stdout",
     "output_type": "stream",
     "text": [
      "[5, 2, 1, 0, 5, 3, 4, 0, 4]\n"
     ]
    }
   ],
   "source": [
    "# Question 1\n",
    "ratings = [5, 2, 1, -1, 5, 3, 4, -1, 4]\n",
    "\n",
    "ratings = [0 if rating < 0 else rating for rating in ratings]\n",
    "\n",
    "print(ratings)"
   ]
  },
  {
   "cell_type": "markdown",
   "id": "f66de847-f73b-418e-8919-977d572e8016",
   "metadata": {},
   "source": [
    "## Exercises\n",
    "1. Find the range of values for each of the following data types:\n",
    "    * `uint8`\n",
    "    * `int8`\n",
    "    * `uint32`\n",
    "    * `int32`\n",
    "2. Try to write a simple custom function to determine whether a given integer is odd or even number.\n",
    "3. Write a simple example code to show that Numpy is more efficient in numerical computation of large arrays of data than equivalent Python list.\n",
    "4. Run the following codes:\n",
    "```python\n",
    "    # create a 1D array\n",
    "    my_arr = np.arange(10)\n",
    "    print(\"Initial my_arr: \", my_arr)\n",
    "    arr_slice = my_arr\n",
    "    print(\"Initial arr_slice: \", arr_slice)\n",
    "\n",
    "    # change the first element of arr_slice\n",
    "    arr_slice[0] = 55\n",
    "\n",
    "    print(\"my_arr: \", my_arr)\n",
    "    print(\"arr_slice: \", arr_slice)\n",
    "```\n",
    "\n",
    "What do you notice? Propose a way to reassign `arr_slice` with new value **without modifying** `my_arr`.\n",
    "\n",
    "5. Create an image as shown as the following with the help of Numpy and matplotlib modules. You can arbitrarily set the dimension of the image and white circular spot at the middle."
   ]
  },
  {
   "cell_type": "code",
   "execution_count": 20,
   "id": "9d596e8e-bcff-46cf-aff6-8fe01f3abcf0",
   "metadata": {},
   "outputs": [
    {
     "name": "stdout",
     "output_type": "stream",
     "text": [
      "uint8: 0 to 255\n",
      "int8: -128 to 127\n",
      "uint32: 0 to 4294967295\n",
      "int32: -2147483648 to 2147483647\n"
     ]
    }
   ],
   "source": [
    "# Question 1\n",
    "import numpy as np\n",
    "\n",
    "uint8_min = np.iinfo(np.uint8).min\n",
    "uint8_max = np.iinfo(np.uint8).max\n",
    "print(f\"uint8: {uint8_min} to {uint8_max}\")\n",
    "\n",
    "int8_min = np.iinfo(np.int8).min\n",
    "int8_max = np.iinfo(np.int8).max\n",
    "print(f\"int8: {int8_min} to {int8_max}\")\n",
    "\n",
    "uint32_min = np.iinfo(np.uint32).min\n",
    "uint32_max = np.iinfo(np.uint32).max\n",
    "print(f\"uint32: {uint32_min} to {uint32_max}\")\n",
    "\n",
    "int32_min = np.iinfo(np.int32).min\n",
    "int32_max = np.iinfo(np.int32).max\n",
    "print(f\"int32: {int32_min} to {int32_max}\")"
   ]
  },
  {
   "cell_type": "code",
   "execution_count": 33,
   "id": "0ee2763b-8e55-4d40-a49c-ad23ad5d9093",
   "metadata": {},
   "outputs": [
    {
     "name": "stdout",
     "output_type": "stream",
     "text": [
      "The number 15 is Odd.\n",
      "The number 16 is Even.\n",
      "The number 17 is Odd.\n"
     ]
    }
   ],
   "source": [
    "# Question 2\n",
    "\n",
    "def odd_or_even(num):\n",
    "    if num % 2 == 0:\n",
    "        return \"Even\" \n",
    "    else:\n",
    "        return \"Odd\"\n",
    "\n",
    "# testing only\n",
    "test = [15, 16, 17]\n",
    "for i in test:\n",
    "    result = odd_or_even(i)\n",
    "    print(f\"The number {i} is {result}.\")"
   ]
  },
  {
   "cell_type": "code",
   "execution_count": 36,
   "id": "2c5e5686-b9fc-4975-a634-2c452491f333",
   "metadata": {},
   "outputs": [
    {
     "name": "stdout",
     "output_type": "stream",
     "text": [
      "Size of each element of list in bytes:  48\n",
      "Size of the whole list in bytes:  48000\n",
      "Size of each element of the Numpy array in bytes:  8\n",
      "Size of the whole Numpy array in bytes:  8000\n"
     ]
    }
   ],
   "source": [
    "# Question 3\n",
    "# importing numpy package\n",
    "import numpy as np\n",
    "\n",
    "# importing system module\n",
    "import sys\n",
    "\n",
    "# declaring a list of 1000 elements\n",
    "S= range(1000)\n",
    "\n",
    "# printing size of each element of the list\n",
    "print(\"Size of each element of list in bytes: \",sys.getsizeof(S))\n",
    "\n",
    "# printing size of the whole list\n",
    "print(\"Size of the whole list in bytes: \",sys.getsizeof(S)*len(S))\n",
    "\n",
    "# declaring a Numpy array of 1000 elements\n",
    "D= np.arange(1000)\n",
    "\n",
    "# printing size of each element of the Numpy array\n",
    "print(\"Size of each element of the Numpy array in bytes: \",D.itemsize)\n",
    "\n",
    "# printing size of the whole Numpy array\n",
    "print(\"Size of the whole Numpy array in bytes: \",D.size*D.itemsize)"
   ]
  },
  {
   "cell_type": "code",
   "execution_count": 40,
   "id": "c4d34364-512e-40e8-b5b3-81704bd48289",
   "metadata": {},
   "outputs": [
    {
     "name": "stdout",
     "output_type": "stream",
     "text": [
      "Initial my_arr:  [0 1 2 3 4 5 6 7 8 9]\n",
      "Initial arr_slice:  [0 1 2 3 4 5 6 7 8 9]\n",
      "my_arr:  [0 1 2 3 4 5 6 7 8 9]\n",
      "arr_slice:  [55  1  2  3  4  5  6  7  8  9]\n"
     ]
    }
   ],
   "source": [
    "# Question 4\n",
    "\n",
    "# create a 1D array\n",
    "my_arr = np.arange(10)\n",
    "print(\"Initial my_arr: \", my_arr)\n",
    "\n",
    "# use .copy()\n",
    "arr_slice = my_arr.copy()\n",
    "print(\"Initial arr_slice: \", arr_slice)\n",
    "\n",
    "# change the first element of arr_slice\n",
    "arr_slice[0] = 55\n",
    "\n",
    "print(\"my_arr: \", my_arr)\n",
    "print(\"arr_slice: \", arr_slice)"
   ]
  },
  {
   "cell_type": "code",
   "execution_count": 60,
   "id": "cea4ceb7-a79a-442b-b9a5-e4ce253c653c",
   "metadata": {},
   "outputs": [
    {
     "data": {
      "image/png": "[encoded data removed]",
      "text/plain": [
       "<Figure size 640x480 with 1 Axes>"
      ]
     },
     "metadata": {},
     "output_type": "display_data"
    }
   ],
   "source": [
    "# Question 5\n",
    "import matplotlib.pyplot as plt\n",
    "\n",
    "image_size = 500\n",
    "circle_radius = 50\n",
    "\n",
    "# Create a black square image (2D array)\n",
    "image = np.zeros((image_size, image_size), dtype=\"uint8\")\n",
    "\n",
    "# Create the coordinates grid\n",
    "y, x = np.ogrid[:image_size, :image_size]\n",
    "\n",
    "# Calculate the center of the image\n",
    "center_x, center_y = image_size // 2, image_size // 2\n",
    "\n",
    "# Create a mask for the circle\n",
    "mask = (x - center_x)**2 + (y - center_y)**2 <= circle_radius**2\n",
    "\n",
    "image[mask] = 255\n",
    "\n",
    "plt.imshow(image, cmap = 'gray')\n",
    "plt.title(\"Image with white circular spot\")\n",
    "plt.axis('off')\n",
    "plt.show()"
   ]
  }
 ],
 "metadata": {
  "kernelspec": {
   "display_name": "Python 3 (ipykernel)",
   "language": "python",
   "name": "python3"
  },
  "language_info": {
   "codemirror_mode": {
    "name": "ipython",
    "version": 3
   },
   "file_extension": ".py",
   "mimetype": "text/x-python",
   "name": "python",
   "nbconvert_exporter": "python",
   "pygments_lexer": "ipython3",
   "version": "3.11.0"
  }
 },
 "nbformat": 4,
 "nbformat_minor": 5
}
